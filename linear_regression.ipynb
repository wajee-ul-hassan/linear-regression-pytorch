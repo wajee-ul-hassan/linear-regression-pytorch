{
  "nbformat": 4,
  "nbformat_minor": 0,
  "metadata": {
    "colab": {
      "provenance": []
    },
    "kernelspec": {
      "name": "python3",
      "display_name": "Python 3"
    },
    "language_info": {
      "name": "python"
    }
  },
  "cells": [
    {
      "cell_type": "code",
      "source": [
        "import torch\n",
        "from torch import nn\n",
        "import matplotlib.pyplot as plt\n",
        "import pandas as pd"
      ],
      "metadata": {
        "id": "BdFDG74btEZp"
      },
      "execution_count": null,
      "outputs": []
    },
    {
      "cell_type": "code",
      "source": [
        "# Setup device agnostic code\n",
        "device = \"cuda\" if torch.cuda.is_available() else \"cpu\"\n",
        "print(f\"Using device: {device}\")"
      ],
      "metadata": {
        "colab": {
          "base_uri": "https://localhost:8080/"
        },
        "id": "Ahr-gPrY84bK",
        "outputId": "5bc6500b-4102-46c0-f3e0-e7a05b5ef7df"
      },
      "execution_count": null,
      "outputs": [
        {
          "output_type": "stream",
          "name": "stdout",
          "text": [
            "Using device: cpu\n"
          ]
        }
      ]
    },
    {
      "cell_type": "code",
      "execution_count": null,
      "metadata": {
        "id": "DUVxmBr7sqfX"
      },
      "outputs": [],
      "source": [
        "#data\n",
        "bias=0.5\n",
        "weight=0.1\n",
        "X=torch.arange(0,1000,10).unsqueeze(1)\n",
        "y=bias+weight*X"
      ]
    },
    {
      "cell_type": "code",
      "source": [
        "#splitting the data into training and test\n",
        "train_split=int(0.8*(len(X)))\n",
        "train_split\n",
        "X_train,Y_train=X[:train_split],y[:train_split]\n",
        "X_test,Y_test=X[train_split:],y[train_split:]\n"
      ],
      "metadata": {
        "id": "tgCInuw1tVZi"
      },
      "execution_count": null,
      "outputs": []
    },
    {
      "cell_type": "code",
      "source": [
        "def plot_predictions(train_data,train_labels,test_data,test_labels,y_preds):\n",
        "  plt.figure(figsize=(10,7))\n",
        "  plt.scatter(train_data,train_labels,c=\"g\",s=4,label=\"training data\")\n",
        "  plt.scatter(test_data,test_labels,c=\"y\",s=4,label=\"test data\")\n",
        "  # Plot the predictions in red (predictions were made on the test data)\n",
        "  plt.scatter(test_data, y_preds, c=\"r\", s=4, label=\"Predictions\")\n",
        "  plt.legend(prop={\"size\": 14});"
      ],
      "metadata": {
        "id": "TlebFOHJvgIz"
      },
      "execution_count": null,
      "outputs": []
    },
    {
      "cell_type": "code",
      "source": [
        "plot_predictions(X_train,Y_train,X_test,Y_test)\n"
      ],
      "metadata": {
        "colab": {
          "base_uri": "https://localhost:8080/",
          "height": 141
        },
        "id": "xU4W9d_iv9uR",
        "outputId": "4721a9c2-b78c-4e69-d19f-23090bad2e59"
      },
      "execution_count": null,
      "outputs": [
        {
          "output_type": "error",
          "ename": "TypeError",
          "evalue": "plot_predictions() missing 1 required positional argument: 'y_preds'",
          "traceback": [
            "\u001b[0;31m---------------------------------------------------------------------------\u001b[0m",
            "\u001b[0;31mTypeError\u001b[0m                                 Traceback (most recent call last)",
            "\u001b[0;32m<ipython-input-12-3411ca50c1a7>\u001b[0m in \u001b[0;36m<cell line: 1>\u001b[0;34m()\u001b[0m\n\u001b[0;32m----> 1\u001b[0;31m \u001b[0mplot_predictions\u001b[0m\u001b[0;34m(\u001b[0m\u001b[0mX_train\u001b[0m\u001b[0;34m,\u001b[0m\u001b[0mY_train\u001b[0m\u001b[0;34m,\u001b[0m\u001b[0mX_test\u001b[0m\u001b[0;34m,\u001b[0m\u001b[0mY_test\u001b[0m\u001b[0;34m)\u001b[0m\u001b[0;34m\u001b[0m\u001b[0;34m\u001b[0m\u001b[0m\n\u001b[0m",
            "\u001b[0;31mTypeError\u001b[0m: plot_predictions() missing 1 required positional argument: 'y_preds'"
          ]
        }
      ]
    },
    {
      "cell_type": "code",
      "source": [
        "import pandas as pd\n",
        "\n",
        "# Convert tensors to NumPy arrays and flatten if needed\n",
        "X_train_np = X_train_np.flatten()\n",
        "Y_train_np = Y_train_np.flatten()\n",
        "\n",
        "# Create the DataFrame\n",
        "df = pd.DataFrame({\n",
        "    'X_train': X_train_np,\n",
        "    'Y_train': Y_train_np\n",
        "})\n",
        "\n",
        "# Display the DataFrame\n",
        "print(df)\n"
      ],
      "metadata": {
        "colab": {
          "base_uri": "https://localhost:8080/",
          "height": 211
        },
        "id": "QSsGFJV4wNhW",
        "outputId": "ce406079-3159-4b09-9bf6-1d22e4482e60"
      },
      "execution_count": null,
      "outputs": [
        {
          "output_type": "error",
          "ename": "NameError",
          "evalue": "name 'X_train_np' is not defined",
          "traceback": [
            "\u001b[0;31m---------------------------------------------------------------------------\u001b[0m",
            "\u001b[0;31mNameError\u001b[0m                                 Traceback (most recent call last)",
            "\u001b[0;32m<ipython-input-14-dfa9a9191223>\u001b[0m in \u001b[0;36m<cell line: 4>\u001b[0;34m()\u001b[0m\n\u001b[1;32m      2\u001b[0m \u001b[0;34m\u001b[0m\u001b[0m\n\u001b[1;32m      3\u001b[0m \u001b[0;31m# Convert tensors to NumPy arrays and flatten if needed\u001b[0m\u001b[0;34m\u001b[0m\u001b[0;34m\u001b[0m\u001b[0m\n\u001b[0;32m----> 4\u001b[0;31m \u001b[0mX_train_np\u001b[0m \u001b[0;34m=\u001b[0m \u001b[0mX_train_np\u001b[0m\u001b[0;34m.\u001b[0m\u001b[0mflatten\u001b[0m\u001b[0;34m(\u001b[0m\u001b[0;34m)\u001b[0m\u001b[0;34m\u001b[0m\u001b[0;34m\u001b[0m\u001b[0m\n\u001b[0m\u001b[1;32m      5\u001b[0m \u001b[0mY_train_np\u001b[0m \u001b[0;34m=\u001b[0m \u001b[0mY_train_np\u001b[0m\u001b[0;34m.\u001b[0m\u001b[0mflatten\u001b[0m\u001b[0;34m(\u001b[0m\u001b[0;34m)\u001b[0m\u001b[0;34m\u001b[0m\u001b[0;34m\u001b[0m\u001b[0m\n\u001b[1;32m      6\u001b[0m \u001b[0;34m\u001b[0m\u001b[0m\n",
            "\u001b[0;31mNameError\u001b[0m: name 'X_train_np' is not defined"
          ]
        }
      ]
    },
    {
      "cell_type": "code",
      "source": [
        "class LR(nn.Module):\n",
        "  def __init__(self):\n",
        "    super().__init__()\n",
        "    self.linear_layer=nn.Linear(in_features=1,out_features=1)\n",
        "  def forward(self,X:torch.Tensor) -> torch.Tensor:\n",
        "    return self.linear_layer(X)\n"
      ],
      "metadata": {
        "id": "bfoEilF53TK3"
      },
      "execution_count": null,
      "outputs": []
    },
    {
      "cell_type": "code",
      "source": [
        "torch.manual_seed(42)\n",
        "model=LR()\n",
        "model,model.state_dict()"
      ],
      "metadata": {
        "colab": {
          "base_uri": "https://localhost:8080/"
        },
        "id": "8BJ9ytnR31Io",
        "outputId": "83fb3405-a733-4b1c-a9ce-8d0afb910369"
      },
      "execution_count": null,
      "outputs": [
        {
          "output_type": "execute_result",
          "data": {
            "text/plain": [
              "(LR(\n",
              "   (linear_layer): Linear(in_features=1, out_features=1, bias=True)\n",
              " ),\n",
              " OrderedDict([('linear_layer.weight', tensor([[0.7645]])),\n",
              "              ('linear_layer.bias', tensor([0.8300]))]))"
            ]
          },
          "metadata": {},
          "execution_count": 16
        }
      ]
    },
    {
      "cell_type": "code",
      "source": [
        " #making code device agnostic\n",
        " model.to(device)"
      ],
      "metadata": {
        "colab": {
          "base_uri": "https://localhost:8080/"
        },
        "id": "tFqzErGm-u0c",
        "outputId": "55acbf55-fa76-4bc9-84fe-6bad116ab215"
      },
      "execution_count": null,
      "outputs": [
        {
          "output_type": "execute_result",
          "data": {
            "text/plain": [
              "LR(\n",
              "  (linear_layer): Linear(in_features=1, out_features=1, bias=True)\n",
              ")"
            ]
          },
          "metadata": {},
          "execution_count": 17
        }
      ]
    },
    {
      "cell_type": "code",
      "source": [
        "#creating a loss function and optimizer\n",
        "loss_fn=nn.L1Loss()\n",
        "\n",
        "# Create optimizer\n",
        "optimizer = torch.optim.Adam(params=model.parameters())\n"
      ],
      "metadata": {
        "id": "moKbErHF-zlb"
      },
      "execution_count": null,
      "outputs": []
    },
    {
      "cell_type": "code",
      "source": [
        "#training and testing loop\n",
        "epochs=10000\n",
        "for epoch in range(epochs):\n",
        "  #model set to train mode\n",
        "  model.train()\n",
        "  #forward pass\n",
        "  y_pred=model(X_train.float())\n",
        "  #calculate the loss\n",
        "  loss=loss_fn(y_pred,Y_train)\n",
        "  # Zero grad optimizer\n",
        "  optimizer.zero_grad()\n",
        "  #Loss backward\n",
        "  loss.backward()\n",
        "  #Step the optimizer\n",
        "  optimizer.step()\n",
        "\n",
        "  #Testing\n",
        "  model.eval() # put the model in evaluation mode for testing (inference)\n",
        "  # 1. Forward pass\n",
        "  with torch.inference_mode():\n",
        "      test_pred = model(X_test.float())\n",
        "      # 2. Calculate the loss\n",
        "      test_loss = loss_fn(test_pred, Y_test)\n",
        "\n",
        "  if epoch % 100 == 0:\n",
        "      print(f\"Epoch: {epoch} | Train loss: {loss} | Test loss: {test_loss}\")\n"
      ],
      "metadata": {
        "colab": {
          "base_uri": "https://localhost:8080/"
        },
        "id": "eJo-kIZF_2bB",
        "outputId": "3ef3382d-9d50-4e6e-f03e-e34b5c316a51"
      },
      "execution_count": null,
      "outputs": [
        {
          "output_type": "stream",
          "name": "stdout",
          "text": [
            "Epoch: 0 | Train loss: 262.8227233886719 | Test loss: 594.1959838867188\n",
            "Epoch: 100 | Train loss: 223.2232208251953 | Test loss: 504.59716796875\n",
            "Epoch: 200 | Train loss: 183.62374877929688 | Test loss: 414.998291015625\n",
            "Epoch: 300 | Train loss: 144.0242462158203 | Test loss: 325.39947509765625\n",
            "Epoch: 400 | Train loss: 104.42781066894531 | Test loss: 235.80197143554688\n",
            "Epoch: 500 | Train loss: 64.83251953125 | Test loss: 146.204833984375\n",
            "Epoch: 600 | Train loss: 25.236345291137695 | Test loss: 56.60620880126953\n",
            "Epoch: 700 | Train loss: 0.24039487540721893 | Test loss: 0.6535003781318665\n",
            "Epoch: 800 | Train loss: 0.11698548495769501 | Test loss: 0.16385002434253693\n",
            "Epoch: 900 | Train loss: 0.09692160785198212 | Test loss: 0.13663101196289062\n",
            "Epoch: 1000 | Train loss: 0.07556027919054031 | Test loss: 0.10192642360925674\n",
            "Epoch: 1100 | Train loss: 0.05293692275881767 | Test loss: 0.06895408779382706\n",
            "Epoch: 1200 | Train loss: 0.029123391956090927 | Test loss: 0.041794586926698685\n",
            "Epoch: 1300 | Train loss: 0.043337564915418625 | Test loss: 0.11218032985925674\n",
            "Epoch: 1400 | Train loss: 0.0030002593994140625 | Test loss: 0.0290069580078125\n",
            "Epoch: 1500 | Train loss: 0.06997457146644592 | Test loss: 0.12212066352367401\n",
            "Epoch: 1600 | Train loss: 0.12249694019556046 | Test loss: 0.23001746833324432\n",
            "Epoch: 1700 | Train loss: 0.012621236965060234 | Test loss: 0.044460296630859375\n",
            "Epoch: 1800 | Train loss: 0.029996495693922043 | Test loss: 0.17241592705249786\n",
            "Epoch: 1900 | Train loss: 0.02173556759953499 | Test loss: 0.026466751471161842\n",
            "Epoch: 2000 | Train loss: 0.11892485618591309 | Test loss: 0.25962144136428833\n",
            "Epoch: 2100 | Train loss: 0.0422249361872673 | Test loss: 0.10314254462718964\n",
            "Epoch: 2200 | Train loss: 0.06349432468414307 | Test loss: 0.05330657958984375\n",
            "Epoch: 2300 | Train loss: 0.0037930780090391636 | Test loss: 0.17260245978832245\n",
            "Epoch: 2400 | Train loss: 0.0564749538898468 | Test loss: 0.0984882339835167\n",
            "Epoch: 2500 | Train loss: 0.10269799083471298 | Test loss: 0.1927642822265625\n",
            "Epoch: 2600 | Train loss: 0.011030716821551323 | Test loss: 0.03869056701660156\n",
            "Epoch: 2700 | Train loss: 0.02633894607424736 | Test loss: 0.15261420607566833\n",
            "Epoch: 2800 | Train loss: 0.019443700090050697 | Test loss: 0.023572921752929688\n",
            "Epoch: 2900 | Train loss: 0.10858376324176788 | Test loss: 0.23704643547534943\n",
            "Epoch: 3000 | Train loss: 0.03905416280031204 | Test loss: 0.09538650512695312\n",
            "Epoch: 3100 | Train loss: 0.059282295405864716 | Test loss: 0.04962196201086044\n",
            "Epoch: 3200 | Train loss: 0.00362589443102479 | Test loss: 0.16230544447898865\n",
            "Epoch: 3300 | Train loss: 0.0534946545958519 | Test loss: 0.09326629340648651\n",
            "Epoch: 3400 | Train loss: 0.09792330116033554 | Test loss: 0.1837940216064453\n",
            "Epoch: 3500 | Train loss: 0.01062115840613842 | Test loss: 0.037203598767519\n",
            "Epoch: 3600 | Train loss: 0.025335898622870445 | Test loss: 0.1471790373325348\n",
            "Epoch: 3700 | Train loss: 0.01879090443253517 | Test loss: 0.022751998156309128\n",
            "Epoch: 3800 | Train loss: 0.10547520965337753 | Test loss: 0.23026427626609802\n",
            "Epoch: 3900 | Train loss: 0.038060255348682404 | Test loss: 0.09294471889734268\n",
            "Epoch: 4000 | Train loss: 0.0579226016998291 | Test loss: 0.048468779772520065\n",
            "Epoch: 4100 | Train loss: 0.0035582021810114384 | Test loss: 0.15893706679344177\n",
            "Epoch: 4200 | Train loss: 0.0525050051510334 | Test loss: 0.09153785556554794\n",
            "Epoch: 4300 | Train loss: 0.09630179405212402 | Test loss: 0.1807529479265213\n",
            "Epoch: 4400 | Train loss: 0.010450460016727448 | Test loss: 0.036623764783144\n",
            "Epoch: 4500 | Train loss: 0.02501041255891323 | Test loss: 0.1451713591814041\n",
            "Epoch: 4600 | Train loss: 0.018577393144369125 | Test loss: 0.02251129224896431\n",
            "Epoch: 4700 | Train loss: 0.10432152450084686 | Test loss: 0.2277427613735199\n",
            "Epoch: 4800 | Train loss: 0.037695031613111496 | Test loss: 0.09205131232738495\n",
            "Epoch: 4900 | Train loss: 0.05740463733673096 | Test loss: 0.048069000244140625\n",
            "Epoch: 5000 | Train loss: 0.0035256855189800262 | Test loss: 0.15768317878246307\n",
            "Epoch: 5100 | Train loss: 0.05211896821856499 | Test loss: 0.09086456149816513\n",
            "Epoch: 5200 | Train loss: 0.09568022191524506 | Test loss: 0.17957153916358948\n",
            "Epoch: 5300 | Train loss: 0.01040030736476183 | Test loss: 0.03643035888671875\n",
            "Epoch: 5400 | Train loss: 0.02486295998096466 | Test loss: 0.14445152878761292\n",
            "Epoch: 5500 | Train loss: 0.018480200320482254 | Test loss: 0.022385025396943092\n",
            "Epoch: 5600 | Train loss: 0.10391172021627426 | Test loss: 0.2268497496843338\n",
            "Epoch: 5700 | Train loss: 0.03758319094777107 | Test loss: 0.09177780151367188\n",
            "Epoch: 5800 | Train loss: 0.057257574051618576 | Test loss: 0.04778137058019638\n",
            "Epoch: 5900 | Train loss: 0.00356319104321301 | Test loss: 0.15708351135253906\n",
            "Epoch: 6000 | Train loss: 0.05190792679786682 | Test loss: 0.09046439826488495\n",
            "Epoch: 6100 | Train loss: 0.09536001086235046 | Test loss: 0.17895126342773438\n",
            "Epoch: 6200 | Train loss: 0.010445448569953442 | Test loss: 0.03650360181927681\n",
            "Epoch: 6300 | Train loss: 0.024752721190452576 | Test loss: 0.14427757263183594\n",
            "Epoch: 6400 | Train loss: 0.018388424068689346 | Test loss: 0.022211838513612747\n",
            "Epoch: 6500 | Train loss: 0.10375861823558807 | Test loss: 0.2265167236328125\n",
            "Epoch: 6600 | Train loss: 0.03754763677716255 | Test loss: 0.09168434143066406\n",
            "Epoch: 6700 | Train loss: 0.05719219520688057 | Test loss: 0.04768180847167969\n",
            "Epoch: 6800 | Train loss: 0.0035819292534142733 | Test loss: 0.156829833984375\n",
            "Epoch: 6900 | Train loss: 0.05184777453541756 | Test loss: 0.090357206761837\n",
            "Epoch: 7000 | Train loss: 0.0952635407447815 | Test loss: 0.1787647306919098\n",
            "Epoch: 7100 | Train loss: 0.010435698553919792 | Test loss: 0.036471176892519\n",
            "Epoch: 7200 | Train loss: 0.024701517075300217 | Test loss: 0.14422455430030823\n",
            "Epoch: 7300 | Train loss: 0.018358170986175537 | Test loss: 0.022158432751893997\n",
            "Epoch: 7400 | Train loss: 0.10370051860809326 | Test loss: 0.22639580070972443\n",
            "Epoch: 7500 | Train loss: 0.03752812370657921 | Test loss: 0.09163665771484375\n",
            "Epoch: 7600 | Train loss: 0.057175684720277786 | Test loss: 0.04760856553912163\n",
            "Epoch: 7700 | Train loss: 0.0035991757176816463 | Test loss: 0.1567031890153885\n",
            "Epoch: 7800 | Train loss: 0.05179271847009659 | Test loss: 0.09025192260742188\n",
            "Epoch: 7900 | Train loss: 0.0951918289065361 | Test loss: 0.17861786484718323\n",
            "Epoch: 8000 | Train loss: 0.010433593764901161 | Test loss: 0.03646354749798775\n",
            "Epoch: 8100 | Train loss: 0.02472967840731144 | Test loss: 0.14409828186035156\n",
            "Epoch: 8200 | Train loss: 0.0183823574334383 | Test loss: 0.02222595177590847\n",
            "Epoch: 8300 | Train loss: 0.103612020611763 | Test loss: 0.22619590163230896\n",
            "Epoch: 8400 | Train loss: 0.03746576979756355 | Test loss: 0.09149780124425888\n",
            "Epoch: 8500 | Train loss: 0.057093940675258636 | Test loss: 0.04774818569421768\n",
            "Epoch: 8600 | Train loss: 0.0035109587479382753 | Test loss: 0.15687179565429688\n",
            "Epoch: 8700 | Train loss: 0.0518876314163208 | Test loss: 0.09045791625976562\n",
            "Epoch: 8800 | Train loss: 0.0952872782945633 | Test loss: 0.1788455992937088\n",
            "Epoch: 8900 | Train loss: 0.010344354435801506 | Test loss: 0.03626403957605362\n",
            "Epoch: 9000 | Train loss: 0.02480846270918846 | Test loss: 0.143890380859375\n",
            "Epoch: 9100 | Train loss: 0.018469657748937607 | Test loss: 0.022419357672333717\n",
            "Epoch: 9200 | Train loss: 0.10351425409317017 | Test loss: 0.22597579658031464\n",
            "Epoch: 9300 | Train loss: 0.03735366463661194 | Test loss: 0.09124450385570526\n",
            "Epoch: 9400 | Train loss: 0.05696822330355644 | Test loss: 0.0480220802128315\n",
            "Epoch: 9500 | Train loss: 0.0033806846477091312 | Test loss: 0.15714988112449646\n",
            "Epoch: 9600 | Train loss: 0.05202215909957886 | Test loss: 0.09077873080968857\n",
            "Epoch: 9700 | Train loss: 0.09541536867618561 | Test loss: 0.17913170158863068\n",
            "Epoch: 9800 | Train loss: 0.010224713012576103 | Test loss: 0.03598976135253906\n",
            "Epoch: 9900 | Train loss: 0.024917934089899063 | Test loss: 0.14363136887550354\n"
          ]
        }
      ]
    },
    {
      "cell_type": "code",
      "source": [
        "plot_predictions(X_train,Y_train,X_test,Y_test,test_pred)"
      ],
      "metadata": {
        "colab": {
          "base_uri": "https://localhost:8080/",
          "height": 599
        },
        "id": "PFHUALlBJQGa",
        "outputId": "4e3648e3-e8f7-48e6-aca6-cc4da085ed9d"
      },
      "execution_count": null,
      "outputs": [
        {
          "output_type": "display_data",
          "data": {
            "text/plain": [
              "<Figure size 1000x700 with 1 Axes>"
            ],
            "image/png": "[encoded data removed]"
          },
          "metadata": {}
        }
      ]
    },
    {
      "cell_type": "code",
      "source": [],
      "metadata": {
        "id": "zmZOm_JmKy-7"
      },
      "execution_count": null,
      "outputs": []
    }
  ]
}